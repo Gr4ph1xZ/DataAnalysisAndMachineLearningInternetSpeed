{
 "cells": [
  {
   "cell_type": "markdown",
   "metadata": {
    "pycharm": {
     "name": "#%% md\n"
    }
   },
   "source": []
  },
  {
   "cell_type": "markdown",
   "source": [
    "Imports"
   ],
   "metadata": {
    "collapsed": false,
    "pycharm": {
     "name": "#%% md\n"
    }
   }
  },
  {
   "cell_type": "code",
   "execution_count": 91,
   "outputs": [],
   "source": [
    "import math\n",
    "import statistics\n",
    "import numpy as np\n",
    "import scipy.stats\n",
    "import pandas as pd\n",
    "import seaborn as sns\n",
    "import sklearn\n",
    "import matplotlib as mpl\n",
    "import matplotlib.pyplot as plt\n",
    "import matplotlib.ticker as ticker"
   ],
   "metadata": {
    "collapsed": false,
    "pycharm": {
     "name": "#%%\n"
    }
   }
  },
  {
   "cell_type": "markdown",
   "source": [
    "Reading CSV"
   ],
   "metadata": {
    "collapsed": false,
    "pycharm": {
     "name": "#%% md\n"
    }
   }
  },
  {
   "cell_type": "code",
   "execution_count": 92,
   "outputs": [],
   "source": [
    "gdp_data = pd.read_csv(r'..\\gdp_csv.csv')\n",
    "internet_speed_data = pd.read_csv(r'..\\internet_speeds.csv')\n",
    "internet_access_data = pd.read_csv(r'..\\internet_access.csv')\n",
    "unemployment_data = pd.read_csv(r'..\\unemployment.csv')\n",
    "\n",
    "gdp = pd.DataFrame(gdp_data, columns=['Country Name', 'Country Code', 'Value', 'Year'])\n",
    "internet_speed = pd.DataFrame(internet_speed_data, columns=['Country','Broadband Mbps', 'Mobile Mbps', 'As of'])\n",
    "internet_access = pd.DataFrame(internet_access_data, columns=['LOCATION', 'Value', 'TIME'])\n",
    "unemployment = pd.DataFrame(unemployment_data, columns=['LOCATION','Value', 'TIME'])"
   ],
   "metadata": {
    "collapsed": false,
    "pycharm": {
     "name": "#%%\n"
    }
   }
  },
  {
   "cell_type": "markdown",
   "source": [
    "Renaming"
   ],
   "metadata": {
    "collapsed": false,
    "pycharm": {
     "name": "#%% md\n"
    }
   }
  },
  {
   "cell_type": "code",
   "execution_count": 93,
   "outputs": [],
   "source": [
    "gdp.rename(columns = {'Country Code':'CountryCode', 'Country Name':'CountryName', 'Year':'YearGDP', 'Value':'GDP'}, inplace = True)\n",
    "internet_speed.rename(columns = {'Country':'CountryName', 'Broadband Mbps':'BroadbandSpeed', 'Mobile Mbps':'MobileSpeed', 'As of':'YearInternetSpeed'}, inplace = True)\n",
    "internet_access.rename(columns={'TIME':'YearInternetAccess', 'Value':'InternetAccess', 'LOCATION':'CountryCode'}, inplace= True)\n",
    "unemployment.rename(columns= {'LOCATION':'CountryCode', 'Value':'Unemployment', 'TIME':'YearUnemployment'}, inplace=True)"
   ],
   "metadata": {
    "collapsed": false,
    "pycharm": {
     "name": "#%%\n"
    }
   }
  },
  {
   "cell_type": "markdown",
   "source": [
    "Removing Duplicates"
   ],
   "metadata": {
    "collapsed": false,
    "pycharm": {
     "name": "#%% md\n"
    }
   }
  },
  {
   "cell_type": "code",
   "execution_count": 94,
   "outputs": [
    {
     "data": {
      "text/plain": "    CountryCode  Unemployment YearUnemployment\n0           AUS      5.269611          2020-01\n10          AUT      4.400000          2020-01\n20          BEL      5.100000          2020-01\n30          CAN      5.500000          2020-01\n40          CZE      2.000000          2020-01\n50          DNK      4.900000          2020-01\n60          FIN      6.900000          2020-01\n70          FRA      7.700000          2020-01\n80          DEU      3.400000          2020-01\n90          GRC     16.100000          2020-01\n98          HUN      3.400000          2020-01\n107         ISL      4.100000          2020-01\n117         IRL      4.900000          2020-01\n127         ITA      9.600000          2020-01\n137         JPN      2.400000          2020-01\n147         KOR      4.000000          2020-01\n157         LUX      5.700000          2020-01\n167         MEX      3.579905          2020-01\n177         NLD      3.000000          2020-01\n187         NOR      3.700000          2020-01\n196         POL      3.000000          2020-01\n206         PRT      6.800000          2020-01\n216         SVK      5.900000          2020-01\n226         ESP     13.500000          2020-01\n236         SWE      7.200000          2020-01\n246         TUR     12.600000          2020-01\n254         GBR      3.900000          2020-01\n262         USA      3.600000          2020-01\n272         CHL      8.107676          2020-01\n281         EST      4.700000          2020-01\n290         ISR      3.612252          2020-01\n300         SVN      4.100000          2020-01\n310        EU28      6.200000          2020-01\n311        OECD      5.267261          2020-01\n320         G-7      4.188101          2020-01\n330        EA19      7.300000          2020-01\n340         LVA      7.000000          2020-01\n350         LTU      6.100000          2020-01\n360         COL     10.610660          2020-01\n369   EU27_2020      6.500000          2020-01",
      "text/html": "<div>\n<style scoped>\n    .dataframe tbody tr th:only-of-type {\n        vertical-align: middle;\n    }\n\n    .dataframe tbody tr th {\n        vertical-align: top;\n    }\n\n    .dataframe thead th {\n        text-align: right;\n    }\n</style>\n<table border=\"1\" class=\"dataframe\">\n  <thead>\n    <tr style=\"text-align: right;\">\n      <th></th>\n      <th>CountryCode</th>\n      <th>Unemployment</th>\n      <th>YearUnemployment</th>\n    </tr>\n  </thead>\n  <tbody>\n    <tr>\n      <th>0</th>\n      <td>AUS</td>\n      <td>5.269611</td>\n      <td>2020-01</td>\n    </tr>\n    <tr>\n      <th>10</th>\n      <td>AUT</td>\n      <td>4.400000</td>\n      <td>2020-01</td>\n    </tr>\n    <tr>\n      <th>20</th>\n      <td>BEL</td>\n      <td>5.100000</td>\n      <td>2020-01</td>\n    </tr>\n    <tr>\n      <th>30</th>\n      <td>CAN</td>\n      <td>5.500000</td>\n      <td>2020-01</td>\n    </tr>\n    <tr>\n      <th>40</th>\n      <td>CZE</td>\n      <td>2.000000</td>\n      <td>2020-01</td>\n    </tr>\n    <tr>\n      <th>50</th>\n      <td>DNK</td>\n      <td>4.900000</td>\n      <td>2020-01</td>\n    </tr>\n    <tr>\n      <th>60</th>\n      <td>FIN</td>\n      <td>6.900000</td>\n      <td>2020-01</td>\n    </tr>\n    <tr>\n      <th>70</th>\n      <td>FRA</td>\n      <td>7.700000</td>\n      <td>2020-01</td>\n    </tr>\n    <tr>\n      <th>80</th>\n      <td>DEU</td>\n      <td>3.400000</td>\n      <td>2020-01</td>\n    </tr>\n    <tr>\n      <th>90</th>\n      <td>GRC</td>\n      <td>16.100000</td>\n      <td>2020-01</td>\n    </tr>\n    <tr>\n      <th>98</th>\n      <td>HUN</td>\n      <td>3.400000</td>\n      <td>2020-01</td>\n    </tr>\n    <tr>\n      <th>107</th>\n      <td>ISL</td>\n      <td>4.100000</td>\n      <td>2020-01</td>\n    </tr>\n    <tr>\n      <th>117</th>\n      <td>IRL</td>\n      <td>4.900000</td>\n      <td>2020-01</td>\n    </tr>\n    <tr>\n      <th>127</th>\n      <td>ITA</td>\n      <td>9.600000</td>\n      <td>2020-01</td>\n    </tr>\n    <tr>\n      <th>137</th>\n      <td>JPN</td>\n      <td>2.400000</td>\n      <td>2020-01</td>\n    </tr>\n    <tr>\n      <th>147</th>\n      <td>KOR</td>\n      <td>4.000000</td>\n      <td>2020-01</td>\n    </tr>\n    <tr>\n      <th>157</th>\n      <td>LUX</td>\n      <td>5.700000</td>\n      <td>2020-01</td>\n    </tr>\n    <tr>\n      <th>167</th>\n      <td>MEX</td>\n      <td>3.579905</td>\n      <td>2020-01</td>\n    </tr>\n    <tr>\n      <th>177</th>\n      <td>NLD</td>\n      <td>3.000000</td>\n      <td>2020-01</td>\n    </tr>\n    <tr>\n      <th>187</th>\n      <td>NOR</td>\n      <td>3.700000</td>\n      <td>2020-01</td>\n    </tr>\n    <tr>\n      <th>196</th>\n      <td>POL</td>\n      <td>3.000000</td>\n      <td>2020-01</td>\n    </tr>\n    <tr>\n      <th>206</th>\n      <td>PRT</td>\n      <td>6.800000</td>\n      <td>2020-01</td>\n    </tr>\n    <tr>\n      <th>216</th>\n      <td>SVK</td>\n      <td>5.900000</td>\n      <td>2020-01</td>\n    </tr>\n    <tr>\n      <th>226</th>\n      <td>ESP</td>\n      <td>13.500000</td>\n      <td>2020-01</td>\n    </tr>\n    <tr>\n      <th>236</th>\n      <td>SWE</td>\n      <td>7.200000</td>\n      <td>2020-01</td>\n    </tr>\n    <tr>\n      <th>246</th>\n      <td>TUR</td>\n      <td>12.600000</td>\n      <td>2020-01</td>\n    </tr>\n    <tr>\n      <th>254</th>\n      <td>GBR</td>\n      <td>3.900000</td>\n      <td>2020-01</td>\n    </tr>\n    <tr>\n      <th>262</th>\n      <td>USA</td>\n      <td>3.600000</td>\n      <td>2020-01</td>\n    </tr>\n    <tr>\n      <th>272</th>\n      <td>CHL</td>\n      <td>8.107676</td>\n      <td>2020-01</td>\n    </tr>\n    <tr>\n      <th>281</th>\n      <td>EST</td>\n      <td>4.700000</td>\n      <td>2020-01</td>\n    </tr>\n    <tr>\n      <th>290</th>\n      <td>ISR</td>\n      <td>3.612252</td>\n      <td>2020-01</td>\n    </tr>\n    <tr>\n      <th>300</th>\n      <td>SVN</td>\n      <td>4.100000</td>\n      <td>2020-01</td>\n    </tr>\n    <tr>\n      <th>310</th>\n      <td>EU28</td>\n      <td>6.200000</td>\n      <td>2020-01</td>\n    </tr>\n    <tr>\n      <th>311</th>\n      <td>OECD</td>\n      <td>5.267261</td>\n      <td>2020-01</td>\n    </tr>\n    <tr>\n      <th>320</th>\n      <td>G-7</td>\n      <td>4.188101</td>\n      <td>2020-01</td>\n    </tr>\n    <tr>\n      <th>330</th>\n      <td>EA19</td>\n      <td>7.300000</td>\n      <td>2020-01</td>\n    </tr>\n    <tr>\n      <th>340</th>\n      <td>LVA</td>\n      <td>7.000000</td>\n      <td>2020-01</td>\n    </tr>\n    <tr>\n      <th>350</th>\n      <td>LTU</td>\n      <td>6.100000</td>\n      <td>2020-01</td>\n    </tr>\n    <tr>\n      <th>360</th>\n      <td>COL</td>\n      <td>10.610660</td>\n      <td>2020-01</td>\n    </tr>\n    <tr>\n      <th>369</th>\n      <td>EU27_2020</td>\n      <td>6.500000</td>\n      <td>2020-01</td>\n    </tr>\n  </tbody>\n</table>\n</div>"
     },
     "execution_count": 94,
     "metadata": {},
     "output_type": "execute_result"
    }
   ],
   "source": [
    "gdp.sort_values(by=['CountryName','YearGDP'], ascending=False)\n",
    "internet_speed.sort_values(by=['CountryName','YearInternetSpeed'], ascending=False)\n",
    "internet_access.sort_values(by=['CountryCode', 'YearInternetAccess'], ascending=False)\n",
    "unemployment.sort_values(by=['CountryCode', 'YearUnemployment'], ascending=False)\n",
    "\n",
    "gdp.drop_duplicates(subset=['CountryCode'], keep='first')\n",
    "gdp.drop_duplicates(subset=['CountryName'], keep='first')\n",
    "internet_speed.drop_duplicates(subset=['CountryName'], keep='first')\n",
    "internet_access.drop_duplicates(subset=['CountryCode'], keep='first')\n",
    "unemployment.drop_duplicates(subset=['CountryCode'], keep='first')"
   ],
   "metadata": {
    "collapsed": false,
    "pycharm": {
     "name": "#%%\n"
    }
   }
  },
  {
   "cell_type": "markdown",
   "source": [
    "Merging"
   ],
   "metadata": {
    "collapsed": false,
    "pycharm": {
     "name": "#%% md\n"
    }
   }
  },
  {
   "cell_type": "code",
   "execution_count": 95,
   "metadata": {
    "pycharm": {
     "name": "#%%\n"
    }
   },
   "outputs": [],
   "source": [
    "dataset = pd.merge(gdp, internet_speed, how='inner', on = 'CountryName')\n",
    "dataset = pd.merge(dataset, internet_access, how='inner', on='CountryCode')\n",
    "dataset = pd.merge(dataset, unemployment, how='inner', on='CountryCode')"
   ]
  },
  {
   "cell_type": "markdown",
   "source": [
    "Convert Units & Round"
   ],
   "metadata": {
    "collapsed": false,
    "pycharm": {
     "name": "#%% md\n"
    }
   }
  },
  {
   "cell_type": "code",
   "execution_count": 96,
   "outputs": [],
   "source": [
    "dataset['GDP'] = dataset['GDP'].div(1000000000).round(2)"
   ],
   "metadata": {
    "collapsed": false,
    "pycharm": {
     "name": "#%%\n"
    }
   }
  },
  {
   "cell_type": "markdown",
   "source": [
    "GDP - Broadband Speed"
   ],
   "metadata": {
    "collapsed": false,
    "pycharm": {
     "name": "#%% md\n"
    }
   }
  },
  {
   "cell_type": "code",
   "execution_count": 97,
   "metadata": {
    "pycharm": {
     "name": "#%%\n"
    }
   },
   "outputs": [
    {
     "data": {
      "text/plain": "<Figure size 360x360 with 1 Axes>",
      "image/png": "[encoded data removed]"
     },
     "metadata": {},
     "output_type": "display_data"
    }
   ],
   "source": [
    "plotBroadBand = sns.lmplot(x=\"GDP\", y=\"BroadbandSpeed\", data=dataset)\n",
    "plotBroadBand.set_xlabels('GDP in billion USD')\n",
    "plotBroadBand.set_ylabels('Broadband Speed in Mbps')\n",
    "plt.xlim(0, 20000)\n",
    "plotBroadBand.savefig(r'..\\output\\GDP - Broadband Speed.png')\n",
    "plt.show()"
   ]
  },
  {
   "cell_type": "markdown",
   "source": [
    "GDP - Mobile Speed"
   ],
   "metadata": {
    "collapsed": false,
    "pycharm": {
     "name": "#%% md\n"
    }
   }
  },
  {
   "cell_type": "code",
   "execution_count": null,
   "metadata": {
    "pycharm": {
     "name": "#%%\n",
     "is_executing": true
    }
   },
   "outputs": [],
   "source": [
    "plotBroadBand = sns.lmplot(x=\"GDP\", y=\"MobileSpeed\", data=dataset)\n",
    "plotBroadBand.set_xlabels('GDP in billion USD')\n",
    "plotBroadBand.set_ylabels('Mobile Speed in Mbps')\n",
    "plt.xlim(0, 20000)\n",
    "plotBroadBand.savefig(r'..\\output\\GDP - Mobile Speed.png')\n",
    "plt.show()"
   ]
  },
  {
   "cell_type": "markdown",
   "source": [
    "Internet Access - Mobile Speed"
   ],
   "metadata": {
    "collapsed": false,
    "pycharm": {
     "name": "#%% md\n"
    }
   }
  },
  {
   "cell_type": "code",
   "execution_count": null,
   "outputs": [],
   "source": [
    "plotBroadBand = sns.lmplot(x=\"InternetAccess\", y=\"MobileSpeed\", data=dataset)\n",
    "plotBroadBand.set_xlabels('Internet Access in %')\n",
    "plotBroadBand.set_ylabels('Mobile Speed in Mbps')\n",
    "plotBroadBand.savefig(r'..\\output\\Internet Access - Mobile Speed.png')\n",
    "plt.show()"
   ],
   "metadata": {
    "collapsed": false,
    "pycharm": {
     "name": "#%%\n",
     "is_executing": true
    }
   }
  },
  {
   "cell_type": "markdown",
   "source": [
    "Internet Access - Broadband Speed"
   ],
   "metadata": {
    "collapsed": false,
    "pycharm": {
     "name": "#%% md\n"
    }
   }
  },
  {
   "cell_type": "code",
   "execution_count": null,
   "outputs": [],
   "source": [
    "plotBroadBand = sns.lmplot(x=\"InternetAccess\", y=\"BroadbandSpeed\", data=dataset)\n",
    "plotBroadBand.set_xlabels('Internet Access in %')\n",
    "plotBroadBand.set_ylabels('Broadband Speed in Mbps')\n",
    "plotBroadBand.savefig(r'..\\output\\Internet Access - Broadband Speed.png')\n",
    "plt.show()"
   ],
   "metadata": {
    "collapsed": false,
    "pycharm": {
     "name": "#%%\n",
     "is_executing": true
    }
   }
  },
  {
   "cell_type": "markdown",
   "source": [
    "Unemployment - Mobile Speed"
   ],
   "metadata": {
    "collapsed": false,
    "pycharm": {
     "name": "#%% md\n"
    }
   }
  },
  {
   "cell_type": "code",
   "execution_count": null,
   "outputs": [],
   "source": [
    "plotBroadBand = sns.lmplot(x=\"Unemployment\", y=\"MobileSpeed\", data=dataset)\n",
    "plotBroadBand.set_xlabels('Unemployment in %')\n",
    "plotBroadBand.set_ylabels('Mobile Speed in Mbps')\n",
    "plotBroadBand.savefig(r'..\\output\\Unemployment - Mobile Speed.png')\n",
    "plt.show()"
   ],
   "metadata": {
    "collapsed": false,
    "pycharm": {
     "name": "#%%\n",
     "is_executing": true
    }
   }
  },
  {
   "cell_type": "markdown",
   "source": [
    "Unemployment - Broadband Speed"
   ],
   "metadata": {
    "collapsed": false,
    "pycharm": {
     "name": "#%% md\n"
    }
   }
  },
  {
   "cell_type": "code",
   "execution_count": null,
   "outputs": [],
   "source": [
    "plotBroadBand = sns.lmplot(x=\"Unemployment\", y=\"BroadbandSpeed\", data=dataset)\n",
    "plotBroadBand.set_xlabels('Unemployment in %')\n",
    "plotBroadBand.set_ylabels('Broadband Speed in Mbps')\n",
    "plotBroadBand.savefig(r'..\\output\\Unemployment - Broadband Speed.png')\n",
    "plt.show()"
   ],
   "metadata": {
    "collapsed": false,
    "pycharm": {
     "name": "#%%\n",
     "is_executing": true
    }
   }
  },
  {
   "cell_type": "markdown",
   "source": [],
   "metadata": {
    "collapsed": false,
    "pycharm": {
     "name": "#%% md\n"
    }
   }
  },
  {
   "cell_type": "code",
   "execution_count": null,
   "outputs": [],
   "source": [],
   "metadata": {
    "collapsed": false,
    "pycharm": {
     "name": "#%%\n"
    }
   }
  }
 ],
 "metadata": {
  "kernelspec": {
   "display_name": "Python 3 (ipykernel)",
   "language": "python",
   "name": "python3"
  },
  "language_info": {
   "codemirror_mode": {
    "name": "ipython",
    "version": 3
   },
   "file_extension": ".py",
   "mimetype": "text/x-python",
   "name": "python",
   "nbconvert_exporter": "python",
   "pygments_lexer": "ipython3",
   "version": "3.10.4"
  }
 },
 "nbformat": 4,
 "nbformat_minor": 1
}